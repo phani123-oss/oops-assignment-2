{
 "cells": [
  {
   "cell_type": "code",
   "execution_count": null,
   "id": "70c4bb6e-07d2-4ea0-b85b-2561361b77b8",
   "metadata": {},
   "outputs": [],
   "source": [
    "#1. What is a constructor in Python? Explain its purpose and usage.\n",
    "'''In oops, the purpose of constructor is used assign values to the datamembers with in the class\n",
    "when an object is created"
   ]
  },
  {
   "cell_type": "code",
   "execution_count": 3,
   "id": "bf1ba483-9394-451f-979d-7d7919eca5c7",
   "metadata": {},
   "outputs": [],
   "source": [
    "#2. Differentiate between a parameterless constructor and a parameterized constructor in Python.\n",
    "\n",
    "'''parameterised constructor is a constructor that takes one or more arguments.\n",
    "while., parameterless constructor is a constructor that takes no arguments.\n",
    "for example..'''\n",
    "\n",
    "class person:\n",
    "    def __init__(self,name,address):\n",
    "        self.name = name\n",
    "        self.address = address\n",
    "        \n",
    "    def access(self):\n",
    "        print(self.name)\n",
    "        print(self.address)\n",
    "        \n",
    "'''the above example is for parametrised constructor and the parameters are name and address\n",
    "   if we remove name and address in above then it is pameterised constructor''"
   ]
  },
  {
   "cell_type": "code",
   "execution_count": 5,
   "id": "2a746905-7970-4081-9ac6-75d2e90855f8",
   "metadata": {},
   "outputs": [
    {
     "name": "stdout",
     "output_type": "stream",
     "text": [
      "phani\n",
      "hyderabd\n"
     ]
    }
   ],
   "source": [
    "example = person('phani' , 'hyderabd')\n",
    "example.access()"
   ]
  },
  {
   "cell_type": "code",
   "execution_count": 9,
   "id": "20cd7927-dacf-4152-937c-f77f0d2845fd",
   "metadata": {},
   "outputs": [],
   "source": [
    "class person:\n",
    "    def __init__(self):\n",
    "        self.name = \"surya\"\n",
    "        self.address = \"hyderabad\"    #here name and address are given because we dont give any parameters above\n",
    "        \n",
    "    def access(self):\n",
    "        print(self.name)\n",
    "        print(self.address)"
   ]
  },
  {
   "cell_type": "code",
   "execution_count": 10,
   "id": "186ed284-d3a4-432f-9b89-b23c969302bf",
   "metadata": {},
   "outputs": [
    {
     "name": "stdout",
     "output_type": "stream",
     "text": [
      "surya\n",
      "hyderabad\n"
     ]
    }
   ],
   "source": [
    "example2 = person()\n",
    "example2.access()"
   ]
  },
  {
   "cell_type": "code",
   "execution_count": 11,
   "id": "368ba3ad-860f-4cf7-b509-424bac14a492",
   "metadata": {},
   "outputs": [
    {
     "data": {
      "text/plain": [
       "'the purpose of constructor is used assign values to the datamembers with in the class\\nwhen an object is created . the __init__ method is called constructor , this is always \\nonly when an object is created.\\n\\nthe syntax is,\\nclass ....:\\n   def __init__(self):\\n       constructor body '"
      ]
     },
     "execution_count": 11,
     "metadata": {},
     "output_type": "execute_result"
    }
   ],
   "source": [
    "# 3. How do you define a constructor in a Python class? Provide an example.\n",
    "'''In oops, the purpose of constructor is used assign values to the datamembers with in the class\n",
    "when an object is created . the __init__ method is called constructor , this is always \n",
    "only when an object is created.\n",
    "\n",
    "the syntax is,\n",
    "class ....:\n",
    "   def __init__(self):\n",
    "       constructor body '''"
   ]
  },
  {
   "cell_type": "code",
   "execution_count": null,
   "id": "752e1eb2-9b12-4b18-a3cd-3fb767c1d43b",
   "metadata": {},
   "outputs": [],
   "source": [
    "#4.  Explain the `__init__` method in Python and its role in constructors.\n",
    "'''In oops, the purpose of constructor is used assign values to the datamembers with in the class\n",
    "when an object is created . the __init__ method is called constructor , this is always \n",
    "only when an object is created. \n",
    " we write init inbetween two underscores and that is called a dunderfunction .'''\n"
   ]
  },
  {
   "cell_type": "code",
   "execution_count": 12,
   "id": "890485fe-36d0-4edc-8d29-9c940b3a6afa",
   "metadata": {},
   "outputs": [],
   "source": [
    "# 5. In a class named `Person`, create a constructor that initializes the `name` and `age` attributes. Provide an example of creating an object of this class.\n",
    "class person:\n",
    "    def __init__(self,name,age):\n",
    "        self.name = name\n",
    "        self.age = age\n",
    "        \n",
    "    def access(self):\n",
    "        print(self.name)\n",
    "        print(self.age)\n",
    "        "
   ]
  },
  {
   "cell_type": "code",
   "execution_count": 13,
   "id": "e75c0b9a-8cec-4a06-bcea-98e8131fbbd6",
   "metadata": {},
   "outputs": [
    {
     "name": "stdout",
     "output_type": "stream",
     "text": [
      "suresh\n",
      "32\n"
     ]
    }
   ],
   "source": [
    "person = person(\"suresh\",32)\n",
    "person.access()"
   ]
  },
  {
   "cell_type": "code",
   "execution_count": 8,
   "id": "a39a1a75-9c51-4f00-9655-47d2806caa0d",
   "metadata": {},
   "outputs": [],
   "source": [
    "#6. How can you call a constructor explicitly in Python? Give an example.\n",
    "\n",
    "''' we can't call the constructor explicitly ,that can be called automatically when an object is created.\n",
    "we have give the parameters with in the paranthesis. to store data in data members ,that are written by using dot.\n",
    "example ,'''\n",
    "class person:\n",
    "    def __init__(self,name):\n",
    "        self.name = name\n"
   ]
  },
  {
   "cell_type": "code",
   "execution_count": 9,
   "id": "f1125f1a-e498-4ff5-a037-9754493a8166",
   "metadata": {},
   "outputs": [],
   "source": [
    "person = person(\"phani\")"
   ]
  },
  {
   "cell_type": "code",
   "execution_count": 11,
   "id": "60bed12b-f971-4ba2-93e2-7813d8cd4be6",
   "metadata": {},
   "outputs": [],
   "source": [
    "'''What is the significance of the `self` parameter in Python constructors? Explain with an example.'''\n",
    "'''self  parametre in a constructor is a reference to the instance of a class,that can written at first in paranthesis\n",
    "it is used to modify and acces the data attributes and methods with in the constructor throught out the class\n",
    "example is ,'''\n",
    "class name:\n",
    "    def __init__(self,name):\n",
    "        self.name = name\n",
    "    def display(self):\n",
    "        print(\"hello\",self.name)"
   ]
  },
  {
   "cell_type": "code",
   "execution_count": 12,
   "id": "ec4f0a08-de57-4abb-ba58-e5b32bbf5db2",
   "metadata": {},
   "outputs": [
    {
     "name": "stdout",
     "output_type": "stream",
     "text": [
      "hello phani\n"
     ]
    }
   ],
   "source": [
    "name = name(\"phani\")\n",
    "name.display()"
   ]
  },
  {
   "cell_type": "code",
   "execution_count": 18,
   "id": "6a46f1c2-ede4-40bb-bc3d-c99bb7b87ecb",
   "metadata": {},
   "outputs": [],
   "source": [
    "#Discuss the concept of default constructors in Python. When are they use\n",
    "'''in python constructors is not manadatory for all ,we write our code witout constructors also'''\n",
    "class anything:\n",
    "    def name(self):\n",
    "        pass\n",
    "name = anything()\n",
    "name.name()\n",
    "'''here we don't use any constructor method default object was created.'''"
   ]
  },
  {
   "cell_type": "code",
   "execution_count": null,
   "id": "ad64e6b1-c32c-4be9-9478-71ef3c871b18",
   "metadata": {},
   "outputs": [],
   "source": [
    "#Explain the use of the `super()` function in Python constructors. Provide an example.\n",
    "\n"
   ]
  },
  {
   "cell_type": "code",
   "execution_count": 1,
   "id": "6b3d05f5-a986-4ce8-91d5-7d7460299820",
   "metadata": {},
   "outputs": [],
   "source": [
    "''' 9. Create a Python class called `Rectangle` with a constructor that initializes the `width` and `height` attributes.\n",
    "Provide a method to calculate the area of the rectangle.'''\n",
    "\n",
    "class rectangle:\n",
    "    def __init__(self,width,height):\n",
    "        self.width = width\n",
    "        self.height = height\n",
    "        \n",
    "    def area(self):\n",
    "        print(\"area of triangle is:\", self.width*self.height)\n"
   ]
  },
  {
   "cell_type": "code",
   "execution_count": 2,
   "id": "ffd4cb26-dd0e-47aa-a810-47b8312162fa",
   "metadata": {},
   "outputs": [
    {
     "name": "stdout",
     "output_type": "stream",
     "text": [
      "area of triangle is: 32\n"
     ]
    }
   ],
   "source": [
    "rect = rectangle(4,8)\n",
    "rect.area()"
   ]
  },
  {
   "cell_type": "code",
   "execution_count": 3,
   "id": "efa6a095-3ef9-48e3-8f9e-ed0f1b0ccaf5",
   "metadata": {},
   "outputs": [],
   "source": [
    "'''13. Create a class called `Book` with a constructor that initializes the `title`, `author`, and `published_year` attributes. \n",
    "Provide a method to display book details.'''\n",
    "\n",
    "class book:\n",
    "    def __init__(self,title,author,published_year):\n",
    "        self.title = title\n",
    "        self.author = author\n",
    "        self.published_year = published_year\n",
    "        \n",
    "    def access(self):\n",
    "        print(self.title)\n",
    "        print(self.author)\n",
    "        print(self.published_year)\n"
   ]
  },
  {
   "cell_type": "code",
   "execution_count": 4,
   "id": "674e3a4d-4f0b-491f-b210-075ff893152e",
   "metadata": {},
   "outputs": [
    {
     "name": "stdout",
     "output_type": "stream",
     "text": [
      "python\n",
      "xyz\n",
      "2020\n"
     ]
    }
   ],
   "source": [
    "book1 = book(\"python\",\"xyz\",2020)\n",
    "book1.access()"
   ]
  },
  {
   "cell_type": "code",
   "execution_count": 5,
   "id": "510e9b4e-7cc5-424e-a540-33ac393aa285",
   "metadata": {},
   "outputs": [
    {
     "name": "stdout",
     "output_type": "stream",
     "text": [
      "dsa\n",
      "xyz\n",
      "2020\n"
     ]
    }
   ],
   "source": [
    "book2 = book(\"dsa\",\"xyz\",2020)\n",
    "book2.access()"
   ]
  },
  {
   "cell_type": "code",
   "execution_count": 10,
   "id": "e9256a7f-2be0-47f4-835d-56e868e10582",
   "metadata": {},
   "outputs": [],
   "source": [
    "# Create a Python class called `Student` with a constructor that takes a list of subjects as a parameter and initializes the `subjects` attribute.\n",
    "\n",
    "class student:\n",
    "    def __init__(self, *subjects):\n",
    "        self.subjects  =  subjects\n",
    "        \n",
    "    def display(self):\n",
    "        print(self.subjects)"
   ]
  },
  {
   "cell_type": "code",
   "execution_count": 13,
   "id": "696ee4e0-3923-4bd0-a0a9-ecf781fbd4d2",
   "metadata": {},
   "outputs": [
    {
     "name": "stdout",
     "output_type": "stream",
     "text": [
      "('maths', 'physics', 'chemistry')\n"
     ]
    }
   ],
   "source": [
    "std1 = student('maths','physics','chemistry')\n",
    "std1.display()"
   ]
  },
  {
   "cell_type": "code",
   "execution_count": 15,
   "id": "18733b51-c2a5-4ff5-a54c-dca11390f130",
   "metadata": {},
   "outputs": [],
   "source": [
    "''' Create a Python class called `Car` with a default constructor that initializes the `make` and `model` attributes. \n",
    "Provide a method to display car information.'''\n",
    "\n",
    "class car:\n",
    "    def __init__(self, make, model):\n",
    "        self.make = make\n",
    "        self.model = model\n",
    "        \n",
    "    def display(self):\n",
    "        print(\"by company: \",self.make)\n",
    "        print(\"model of the car is: \",self.model)"
   ]
  },
  {
   "cell_type": "code",
   "execution_count": 16,
   "id": "7aea112b-b79f-4d2a-b43f-4be8ff0cec76",
   "metadata": {},
   "outputs": [
    {
     "name": "stdout",
     "output_type": "stream",
     "text": [
      "by company:  tata\n",
      "model of the car is:  nexon\n"
     ]
    }
   ],
   "source": [
    "vehicle1 = car(\"tata\",\"nexon\")\n",
    "vehicle1.display()"
   ]
  },
  {
   "cell_type": "code",
   "execution_count": null,
   "id": "42b54533-2ff8-4064-a805-81bf8f8565da",
   "metadata": {},
   "outputs": [],
   "source": [
    "                       #inheritance"
   ]
  },
  {
   "cell_type": "code",
   "execution_count": 23,
   "id": "f0a36edc-1e71-4466-a8d5-f7f753d7fe8c",
   "metadata": {},
   "outputs": [],
   "source": [
    "'''#3. Create a Python class called `Vehicle` with attributes `color` and `speed`. Then, create a child class called \n",
    "`Car` that inherits from `Vehicle` and adds a `brand` attribute. Provide an example of creating a `Car` object.'''\n",
    "\n",
    "class vehicle:\n",
    "    def __init__(self,colour,speed):\n",
    "        self.colour = colour\n",
    "        self.speed = speed\n",
    "    def display(self):\n",
    "        print(\"colour of car is: \",self.colour)\n",
    "        print(\"speed is: \",self.speed)"
   ]
  },
  {
   "cell_type": "code",
   "execution_count": 24,
   "id": "22f78a8d-c870-4ed2-bd80-491d1a088271",
   "metadata": {},
   "outputs": [],
   "source": [
    "class car(vehicle):\n",
    "    def brand(self):\n",
    "        print(\"this gives the brand of the car\")"
   ]
  },
  {
   "cell_type": "code",
   "execution_count": 25,
   "id": "bc608863-3d0c-41b4-87a0-c6786400e5e0",
   "metadata": {},
   "outputs": [],
   "source": [
    "my_car = car('white',120)"
   ]
  },
  {
   "cell_type": "code",
   "execution_count": 26,
   "id": "1df6b812-f683-4605-b901-63f151a94f8c",
   "metadata": {},
   "outputs": [
    {
     "name": "stdout",
     "output_type": "stream",
     "text": [
      "this gives the brand of the car\n"
     ]
    }
   ],
   "source": [
    "my_car.brand()"
   ]
  },
  {
   "cell_type": "code",
   "execution_count": 27,
   "id": "c47e5f42-94ae-46b7-9a05-5c6ff92a3065",
   "metadata": {},
   "outputs": [
    {
     "name": "stdout",
     "output_type": "stream",
     "text": [
      "colour of car is:  white\n",
      "speed is:  120\n"
     ]
    }
   ],
   "source": [
    "my_car.display()"
   ]
  },
  {
   "cell_type": "code",
   "execution_count": 9,
   "id": "965a28dd-5fba-4575-8801-f39a72277aa5",
   "metadata": {},
   "outputs": [],
   "source": [
    "'''#7. Create a Python class called `Animal` with a method `speak()`. Then, create child classes `Dog` and `Cat` \n",
    "that inherit from `Animal` and override the `speak()` method. Provide an example of using these classes.'''\n",
    "\n",
    "class animal:\n",
    "    def speak(self):\n",
    "        pass\n",
    "class dog(animal):\n",
    "    def speak(self):\n",
    "        return \"bowbow\"\n",
    "class cat(animal):\n",
    "    def speak(self):\n",
    "        return \"meow\""
   ]
  },
  {
   "cell_type": "code",
   "execution_count": 10,
   "id": "3807b1e6-d57a-4c66-b935-c4a8684cb99d",
   "metadata": {},
   "outputs": [
    {
     "data": {
      "text/plain": [
       "'meow'"
      ]
     },
     "execution_count": 10,
     "metadata": {},
     "output_type": "execute_result"
    }
   ],
   "source": [
    "cat = cat()\n",
    "cat.speak()"
   ]
  },
  {
   "cell_type": "code",
   "execution_count": 11,
   "id": "0d796d59-02cf-43a5-858a-bec27e063d30",
   "metadata": {},
   "outputs": [
    {
     "data": {
      "text/plain": [
       "'bowbow'"
      ]
     },
     "execution_count": 11,
     "metadata": {},
     "output_type": "execute_result"
    }
   ],
   "source": [
    "dog = dog()\n",
    "dog.speak()"
   ]
  },
  {
   "cell_type": "code",
   "execution_count": 67,
   "id": "2be2c591-234c-4b85-a9a8-422e4be46831",
   "metadata": {},
   "outputs": [],
   "source": [
    "'''20. Create a Python class hierarchy for a university system. Start with a base class `Person` and \n",
    "create child classes `Student` and `Professor`, each with their own attributes and methods.\n",
    "Provide an example of using these classes in a university context.'''\n",
    "   \n",
    "class person:\n",
    "    def __init__(self):\n",
    "        pass\n",
    "class student(person):\n",
    "    def __init__(self,name,rollno):\n",
    "        self.name = name\n",
    "        self.rollno = rollno\n",
    "    def display(self):\n",
    "        print(\"name of the student is\",self.name)\n",
    "        print(\"rollno of the student is\",self.rollno)\n",
    "class professor(student,person):\n",
    "    def topic(self):\n",
    "        print(\"which gives topic of professor\")\n",
    "    "
   ]
  },
  {
   "cell_type": "code",
   "execution_count": 69,
   "id": "8db72bf1-c906-4f86-9d43-df692916cfe4",
   "metadata": {},
   "outputs": [],
   "source": [
    "details = professor(\"phani\",24026)"
   ]
  },
  {
   "cell_type": "code",
   "execution_count": 70,
   "id": "6c85f711-c4f6-4aac-b52a-305882e471fd",
   "metadata": {},
   "outputs": [
    {
     "name": "stdout",
     "output_type": "stream",
     "text": [
      "name of the student is phani\n",
      "rollno of the student is 24026\n"
     ]
    }
   ],
   "source": [
    "details.display()"
   ]
  },
  {
   "cell_type": "code",
   "execution_count": 71,
   "id": "39822417-cb1d-4ca6-8c00-b8c1d8853380",
   "metadata": {},
   "outputs": [
    {
     "name": "stdout",
     "output_type": "stream",
     "text": [
      "which gives topic of professor\n"
     ]
    }
   ],
   "source": [
    "details.topic()"
   ]
  },
  {
   "cell_type": "code",
   "execution_count": 12,
   "id": "8b60ed3a-465e-4238-ab8b-6dac498fa0c1",
   "metadata": {},
   "outputs": [],
   "source": [
    "'''Create a Python class called `Bird` with a method `fly()`. Then, create child classes `Eagle` and `Sparrow` \n",
    "that inherit from `Bird` and implement the `fly()` method differently. Provide an example of using these classes.'''\n",
    "\n",
    "class bird:\n",
    "    def fly(self):\n",
    "        pas\n",
    "class eagle(bird):\n",
    "    def fly(self):\n",
    "        return \"eagle fly in heavy storms also\"\n",
    "class sparrow(bird):\n",
    "    def fly(self):\n",
    "        return \"sparrow fly slowly compared to eagle\""
   ]
  },
  {
   "cell_type": "code",
   "execution_count": 13,
   "id": "f157e3c0-bb89-4e67-94ab-a108439df9ee",
   "metadata": {},
   "outputs": [
    {
     "data": {
      "text/plain": [
       "'eagle fly in heavy storms also'"
      ]
     },
     "execution_count": 13,
     "metadata": {},
     "output_type": "execute_result"
    }
   ],
   "source": [
    "eagle = eagle()\n",
    "eagle.fly()"
   ]
  },
  {
   "cell_type": "code",
   "execution_count": 15,
   "id": "4cde5d99-b4d4-4b4c-8e60-63531dd5f99b",
   "metadata": {},
   "outputs": [
    {
     "data": {
      "text/plain": [
       "'sparrow fly slowly compared to eagle'"
      ]
     },
     "execution_count": 15,
     "metadata": {},
     "output_type": "execute_result"
    }
   ],
   "source": [
    "sparrow = sparrow()\n",
    "sparrow.fly()"
   ]
  },
  {
   "cell_type": "code",
   "execution_count": 23,
   "id": "f39de89e-7656-477d-9629-0fcd788a4210",
   "metadata": {},
   "outputs": [],
   "source": [
    "'''Create a Python class called `Shape` with a method `area()` that calculates the area of a shape.\n",
    "Then, create child classes `Circle` and `Rectangle` that inherit from `Shape` and implement the\n",
    "`area()` method accordingly. Provide an example.'''\n",
    "\n",
    "class shape:\n",
    "    def shape(self):\n",
    "        return \"below classses gives the shape of corresponding classes\"\n",
    "class circle(shape):\n",
    "    def area(self,radius):\n",
    "        r = 3.14*(radius*radius)\n",
    "        return r\n",
    "class rectangle(shape):\n",
    "    def area(self,width,length):\n",
    "        a = width*length\n",
    "        return a"
   ]
  },
  {
   "cell_type": "code",
   "execution_count": 24,
   "id": "3747f514-1846-4fe4-a41c-acfe5a14e225",
   "metadata": {},
   "outputs": [
    {
     "data": {
      "text/plain": [
       "'below classses gives the shape of corresponding classes'"
      ]
     },
     "execution_count": 24,
     "metadata": {},
     "output_type": "execute_result"
    }
   ],
   "source": [
    "shape= shape()\n",
    "shape.shape()"
   ]
  },
  {
   "cell_type": "code",
   "execution_count": 25,
   "id": "982f9d36-caa5-495d-975e-d3656bd6e0f4",
   "metadata": {},
   "outputs": [
    {
     "data": {
      "text/plain": [
       "78.5"
      ]
     },
     "execution_count": 25,
     "metadata": {},
     "output_type": "execute_result"
    }
   ],
   "source": [
    "circle = circle()\n",
    "circle.area(5)"
   ]
  },
  {
   "cell_type": "code",
   "execution_count": 27,
   "id": "debcccab-998a-4c90-89bf-446050438913",
   "metadata": {},
   "outputs": [
    {
     "data": {
      "text/plain": [
       "18"
      ]
     },
     "execution_count": 27,
     "metadata": {},
     "output_type": "execute_result"
    }
   ],
   "source": [
    "rectangle = rectangle()\n",
    "rectangle.area(6,3)"
   ]
  },
  {
   "cell_type": "code",
   "execution_count": 59,
   "id": "39be888d-50da-4f92-9060-e4fdcdcb8541",
   "metadata": {},
   "outputs": [],
   "source": [
    "'''Create a Python class called `Employee` with attributes `name` and `salary`. \n",
    "Then, create a child class `Manager` that inherits from `Employee` and \n",
    "adds an attribute `department`. Provide an example.'''\n",
    "\n",
    "class employee:\n",
    "    def __init__(self,name,salary):\n",
    "        self.name = name\n",
    "        self.salary = salary\n",
    "    def display(self):\n",
    "        print(\"name of the employee is: \",self.name)\n",
    "        print(\"salary of the employee is: \",self.salary)\n",
    "class manager(employee):\n",
    "    def department(self,dept):\n",
    "        print(\" department of manager is: \",dept)\n",
    "    \n"
   ]
  },
  {
   "cell_type": "code",
   "execution_count": 57,
   "id": "28723474-54f7-4ce6-85d8-7ba552f289dc",
   "metadata": {},
   "outputs": [
    {
     "name": "stdout",
     "output_type": "stream",
     "text": [
      "name of the employee is:  phani\n",
      "salary of the employee is:  35000\n"
     ]
    }
   ],
   "source": [
    "employee = employee(\"phani\",35000)\n",
    "employee.display()"
   ]
  },
  {
   "cell_type": "code",
   "execution_count": 60,
   "id": "caeba795-eb4b-4444-919c-4409f6f871c2",
   "metadata": {},
   "outputs": [
    {
     "name": "stdout",
     "output_type": "stream",
     "text": [
      " department of manager is:  data science\n"
     ]
    }
   ],
   "source": [
    "employee = manager(\"bhavanya\",45000)\n",
    "employee.department(\"data science\")"
   ]
  },
  {
   "cell_type": "code",
   "execution_count": 61,
   "id": "4369421e-1d37-4268-ae18-75e667bcca02",
   "metadata": {},
   "outputs": [],
   "source": [
    "             #encapsulation"
   ]
  },
  {
   "cell_type": "code",
   "execution_count": 74,
   "id": "bb558fff-cae3-4cf6-affb-3c06946baf7c",
   "metadata": {},
   "outputs": [],
   "source": [
    "'''Create a Python class called `Person` with a private attribute `__name`.\n",
    "Provide methods to get and set the name attribute.'''\n",
    "\n",
    "class person:\n",
    "    def __init__(self,name):\n",
    "        self.__name = name\n",
    "    def to_get(self):\n",
    "        return self.__name\n",
    "    def set_name(self):\n",
    "        self.__name = \"raja\"\n",
    "        return self.__name"
   ]
  },
  {
   "cell_type": "code",
   "execution_count": 75,
   "id": "58dbf46c-ff5d-4561-8863-b74b4c854634",
   "metadata": {},
   "outputs": [],
   "source": [
    "person1 = person(\"phani\")"
   ]
  },
  {
   "cell_type": "code",
   "execution_count": 76,
   "id": "12260013-819a-4bba-bd53-1fde4973bfe8",
   "metadata": {},
   "outputs": [
    {
     "data": {
      "text/plain": [
       "'phani'"
      ]
     },
     "execution_count": 76,
     "metadata": {},
     "output_type": "execute_result"
    }
   ],
   "source": [
    "person1.to_get()"
   ]
  },
  {
   "cell_type": "code",
   "execution_count": 78,
   "id": "051aebcd-268d-41e8-8a6c-2bd3af215d53",
   "metadata": {},
   "outputs": [
    {
     "data": {
      "text/plain": [
       "'raja'"
      ]
     },
     "execution_count": 78,
     "metadata": {},
     "output_type": "execute_result"
    }
   ],
   "source": [
    "person1.set_name()"
   ]
  },
  {
   "cell_type": "code",
   "execution_count": 112,
   "id": "fd7a740b-5edd-4640-ac4f-aff84be9e2af",
   "metadata": {},
   "outputs": [],
   "source": [
    "'''Create a Python class called `BankAccount` with private attributes for the account balance (`__balance`) \n",
    "and account number (`__account_number`). Provide methods for depositing and withdrawing money.'''\n",
    "\n",
    "class bankaccount:\n",
    "    def __init__(self,account_number,balance):\n",
    "        self.__account_number = account_number\n",
    "        self.__balance = balance\n",
    "    def deposit(self):\n",
    "        x=int(input (\"enter amount to deposit: \"))\n",
    "        self.__balance+=x\n",
    "        return self.__balance\n",
    "    def withdraw(self):\n",
    "        y=int(input(\"enter amount to withdraw: \"))\n",
    "        if  self.__balance>=y:\n",
    "            self.__balance -= y\n",
    "            return self.__balance\n",
    "        else:\n",
    "            return \"no available amount\"\n"
   ]
  },
  {
   "cell_type": "code",
   "execution_count": 113,
   "id": "3d61d89f-4a43-4251-a652-4fe3b5fb378c",
   "metadata": {},
   "outputs": [],
   "source": [
    "phani = bankaccount(35454734,100000)"
   ]
  },
  {
   "cell_type": "code",
   "execution_count": 114,
   "id": "7fbc7c64-82f1-4497-8912-d6749ade5ece",
   "metadata": {},
   "outputs": [
    {
     "name": "stdin",
     "output_type": "stream",
     "text": [
      "enter amount to deposit:  50000\n"
     ]
    },
    {
     "data": {
      "text/plain": [
       "150000"
      ]
     },
     "execution_count": 114,
     "metadata": {},
     "output_type": "execute_result"
    }
   ],
   "source": [
    "phani.deposit()"
   ]
  },
  {
   "cell_type": "code",
   "execution_count": 115,
   "id": "3c090e1c-971b-4ac4-8fdc-70df6ca35671",
   "metadata": {},
   "outputs": [
    {
     "name": "stdin",
     "output_type": "stream",
     "text": [
      "enter amount to withdraw:  10000\n"
     ]
    },
    {
     "data": {
      "text/plain": [
       "140000"
      ]
     },
     "execution_count": 115,
     "metadata": {},
     "output_type": "execute_result"
    }
   ],
   "source": [
    "phani.withdraw()"
   ]
  },
  {
   "cell_type": "code",
   "execution_count": 244,
   "id": "39d1546b-7d2d-417a-96aa-49b1ffc59ddb",
   "metadata": {},
   "outputs": [],
   "source": [
    "'''Create a Python class hierarchy for a school system, including classes for students, teachers, and courses, \n",
    "and implement encapsulation principles to protect sensitive information.'''\n",
    "\n",
    "class school:\n",
    "    def __init__(self,name,mobileno,*subject,salary):\n",
    "        self.name = name\n",
    "        self._mobileno = mobileno\n",
    "        self.subject = subject\n",
    "        self._salary = salary\n",
    "    def student(self,name,subject,mobileno):\n",
    "        return self.name\n",
    "        return self.subject\n",
    "   "
   ]
  },
  {
   "cell_type": "code",
   "execution_count": 246,
   "id": "c4a0f7e7-5727-4d1c-b7d5-90e927251e59",
   "metadata": {},
   "outputs": [
    {
     "ename": "TypeError",
     "evalue": "school.__init__() missing 1 required keyword-only argument: 'salary'",
     "output_type": "error",
     "traceback": [
      "\u001b[0;31m---------------------------------------------------------------------------\u001b[0m",
      "\u001b[0;31mTypeError\u001b[0m                                 Traceback (most recent call last)",
      "Cell \u001b[0;32mIn[246], line 1\u001b[0m\n\u001b[0;32m----> 1\u001b[0m school \u001b[38;5;241m=\u001b[39m \u001b[43mschool\u001b[49m\u001b[43m(\u001b[49m\u001b[38;5;124;43m\"\u001b[39;49m\u001b[38;5;124;43mphani\u001b[39;49m\u001b[38;5;124;43m\"\u001b[39;49m\u001b[43m,\u001b[49m\u001b[38;5;241;43m35546\u001b[39;49m\u001b[43m,\u001b[49m\u001b[38;5;124;43m\"\u001b[39;49m\u001b[38;5;124;43mmaths\u001b[39;49m\u001b[38;5;124;43m\"\u001b[39;49m\u001b[43m,\u001b[49m\u001b[43m \u001b[49m\u001b[38;5;241;43m1234\u001b[39;49m\u001b[43m)\u001b[49m\n\u001b[1;32m      2\u001b[0m school\u001b[38;5;241m.\u001b[39mstudent(\u001b[38;5;124m\"\u001b[39m\u001b[38;5;124mphani\u001b[39m\u001b[38;5;124m\"\u001b[39m,\u001b[38;5;124m\"\u001b[39m\u001b[38;5;124mmaths\u001b[39m\u001b[38;5;124m\"\u001b[39m,\u001b[38;5;241m3435\u001b[39m)\n",
      "\u001b[0;31mTypeError\u001b[0m: school.__init__() missing 1 required keyword-only argument: 'salary'"
     ]
    }
   ],
   "source": [
    "school = school(\"phani\",35546,\"maths\", 1234)\n",
    "school.student(\"phani\",\"maths\",3435)\n"
   ]
  },
  {
   "cell_type": "code",
   "execution_count": 231,
   "id": "bec00611-d81e-45a9-bdea-999ea38d4276",
   "metadata": {},
   "outputs": [
    {
     "data": {
      "text/plain": [
       "'surya'"
      ]
     },
     "execution_count": 231,
     "metadata": {},
     "output_type": "execute_result"
    }
   ],
   "source": [
    "chaithanya_school.teachers(\"surya\",\"datascience\",44354,25000)"
   ]
  },
  {
   "cell_type": "code",
   "execution_count": 219,
   "id": "45314363-a9e1-4610-9b18-abcdf05e2fa0",
   "metadata": {},
   "outputs": [],
   "source": [
    "'''Create a Python class called `Employee` with private attributes for salary (`__salary`) and \n",
    "employee ID (`__employee_id`). Provide a method to calculate yearly bonuses.'''\n",
    "\n",
    "class employee:\n",
    "    def __init__(self,salary,employee_id):\n",
    "        self.__salary = salary\n",
    "        self.__employee_id = employee_id\n",
    "        self.bonous = \"bonous\"\n",
    "        \n",
    "    def salary(self):\n",
    "        return self.__salary\n",
    "    \n",
    "    def employee_id(self):\n",
    "        return self.__employee_id\n",
    "        \n",
    "    def bonous(self):\n",
    "        #bonus = salary * 8.33/100\n",
    "        self.bonus = self.__salary * (8.33/100)\n",
    "        return self.bonous\n",
    "        \n"
   ]
  },
  {
   "cell_type": "code",
   "execution_count": 220,
   "id": "1a32de4b-a0dd-4ff0-b1d9-8134021e7663",
   "metadata": {},
   "outputs": [],
   "source": [
    "emp = employee(25000,123)"
   ]
  },
  {
   "cell_type": "code",
   "execution_count": 221,
   "id": "02e4cc76-8536-48cd-b88b-1e6f445126a5",
   "metadata": {},
   "outputs": [
    {
     "data": {
      "text/plain": [
       "25000"
      ]
     },
     "execution_count": 221,
     "metadata": {},
     "output_type": "execute_result"
    }
   ],
   "source": [
    "emp.salary()"
   ]
  },
  {
   "cell_type": "code",
   "execution_count": 222,
   "id": "368bebda-2520-4830-80b5-9b640cd8d2a7",
   "metadata": {},
   "outputs": [
    {
     "data": {
      "text/plain": [
       "123"
      ]
     },
     "execution_count": 222,
     "metadata": {},
     "output_type": "execute_result"
    }
   ],
   "source": [
    "emp.employee_id()"
   ]
  },
  {
   "cell_type": "code",
   "execution_count": 223,
   "id": "dfe65921-2748-440d-b02c-973adb7fda78",
   "metadata": {},
   "outputs": [
    {
     "ename": "TypeError",
     "evalue": "'str' object is not callable",
     "output_type": "error",
     "traceback": [
      "\u001b[0;31m---------------------------------------------------------------------------\u001b[0m",
      "\u001b[0;31mTypeError\u001b[0m                                 Traceback (most recent call last)",
      "Cell \u001b[0;32mIn[223], line 1\u001b[0m\n\u001b[0;32m----> 1\u001b[0m \u001b[43memp\u001b[49m\u001b[38;5;241;43m.\u001b[39;49m\u001b[43mbonous\u001b[49m\u001b[43m(\u001b[49m\u001b[43m)\u001b[49m\n",
      "\u001b[0;31mTypeError\u001b[0m: 'str' object is not callable"
     ]
    }
   ],
   "source": [
    "emp.bonous()"
   ]
  },
  {
   "cell_type": "code",
   "execution_count": 164,
   "id": "62d7e388-333d-4305-a32f-2cfc5a8550df",
   "metadata": {},
   "outputs": [],
   "source": [
    "'''Create a Python class for a library system that encapsulates book information, \n",
    "including titles, authors, and availability status.'''\n",
    "\n",
    "class book:\n",
    "    def __init__(self,title,author):\n",
    "        self._title = title\n",
    "        self._author = author\n",
    "        self.availabilty = True\n",
    "        \n",
    "    def get_title(self):\n",
    "        return self._title\n",
    "    def get_author(self):\n",
    "        return self._author\n",
    "    def is_available(self):\n",
    "        return self._available\n",
    "    "
   ]
  },
  {
   "cell_type": "code",
   "execution_count": 165,
   "id": "d564868b-f709-4133-867a-372d914cb02f",
   "metadata": {},
   "outputs": [],
   "source": [
    "book1 = book(\"dsa\",\"unkonown\")"
   ]
  },
  {
   "cell_type": "code",
   "execution_count": 166,
   "id": "133a426b-60e5-480a-af61-c6f3f538bc83",
   "metadata": {},
   "outputs": [
    {
     "data": {
      "text/plain": [
       "'dsa'"
      ]
     },
     "execution_count": 166,
     "metadata": {},
     "output_type": "execute_result"
    }
   ],
   "source": [
    "book1.get_title()"
   ]
  },
  {
   "cell_type": "code",
   "execution_count": 167,
   "id": "59a98651-5597-425a-9e8e-3487a5ff77b7",
   "metadata": {},
   "outputs": [
    {
     "data": {
      "text/plain": [
       "'unkonown'"
      ]
     },
     "execution_count": 167,
     "metadata": {},
     "output_type": "execute_result"
    }
   ],
   "source": [
    "book1.get_author()"
   ]
  },
  {
   "cell_type": "code",
   "execution_count": 183,
   "id": "e9004b92-3faf-44b0-a1e1-bfab1f19b84e",
   "metadata": {},
   "outputs": [],
   "source": [
    "''' Create a Python class called `Customer` with private attributes for customer details like \n",
    "name, address, and contact information. Implement encapsulation to ensure data integrity and security.'''\n",
    "\n",
    "class customer:\n",
    "    def __init__(self,name,address,contact):\n",
    "        self.__name = name\n",
    "        self.__address = address\n",
    "        self.__contact = contact\n",
    "    def get_name(self):\n",
    "        return self.__name\n",
    "    def get_address(self):\n",
    "        return self.get_address\n",
    "    def update(self,new_address):\n",
    "        self.__address = new_address\n",
    "        return self.__address"
   ]
  },
  {
   "cell_type": "code",
   "execution_count": 184,
   "id": "e3ed75d1-59cc-4a98-a98f-d64522db0461",
   "metadata": {},
   "outputs": [
    {
     "data": {
      "text/plain": [
       "'phani'"
      ]
     },
     "execution_count": 184,
     "metadata": {},
     "output_type": "execute_result"
    }
   ],
   "source": [
    "customer1 = customer(\"phani\",\"amalapuram\",5478547)\n",
    "customer1.get_name()"
   ]
  },
  {
   "cell_type": "code",
   "execution_count": 185,
   "id": "3321b724-bd1d-4da5-83c6-457d238808c6",
   "metadata": {},
   "outputs": [
    {
     "data": {
      "text/plain": [
       "<bound method customer.get_address of <__main__.customer object at 0x7f64c1a49210>>"
      ]
     },
     "execution_count": 185,
     "metadata": {},
     "output_type": "execute_result"
    }
   ],
   "source": [
    "customer1.get_address()"
   ]
  },
  {
   "cell_type": "code",
   "execution_count": 186,
   "id": "94c60a11-6b6e-4d8e-9420-e17de084b182",
   "metadata": {},
   "outputs": [
    {
     "data": {
      "text/plain": [
       "'hyd'"
      ]
     },
     "execution_count": 186,
     "metadata": {},
     "output_type": "execute_result"
    }
   ],
   "source": [
    "customer1.update(\"hyd\")"
   ]
  },
  {
   "cell_type": "code",
   "execution_count": 15,
   "id": "6be80575-17cc-4545-bff9-7201659d6625",
   "metadata": {},
   "outputs": [],
   "source": [
    "'''3. Create a Python class hierarchy for shapes (e.g., circle, square, triangle) and demonstrate polymorphism \n",
    "through a common method, such as `calculate_area()`.'''\n",
    "\n",
    "class shape:\n",
    "    def shape(self):\n",
    "        pass\n",
    "class circle(shape):\n",
    "    def calculated_area(self,radius):\n",
    "        r = 3.14*(radius*radius)\n",
    "        return r\n",
    "class square(circle):\n",
    "    def calculated_area(self,len_side):\n",
    "        a = len_side*len_side\n",
    "        return a\n",
    "class triangle(square):\n",
    "    def calculated_area(self,base,height):\n",
    "        a = (1/2)*(base*height)\n",
    "        return a"
   ]
  },
  {
   "cell_type": "code",
   "execution_count": 16,
   "id": "30407b3f-952d-422f-90b3-388638305b0b",
   "metadata": {},
   "outputs": [
    {
     "data": {
      "text/plain": [
       "50.24"
      ]
     },
     "execution_count": 16,
     "metadata": {},
     "output_type": "execute_result"
    }
   ],
   "source": [
    "circle = circle()\n",
    "circle.calculated_area(4)"
   ]
  },
  {
   "cell_type": "code",
   "execution_count": 17,
   "id": "5556762e-9c28-4731-81a7-8a1f31a8b879",
   "metadata": {},
   "outputs": [
    {
     "data": {
      "text/plain": [
       "25"
      ]
     },
     "execution_count": 17,
     "metadata": {},
     "output_type": "execute_result"
    }
   ],
   "source": [
    "square = square()\n",
    "square.calculated_area(5)"
   ]
  },
  {
   "cell_type": "code",
   "execution_count": 18,
   "id": "0fa0057d-8268-46f3-88ef-dde4f42dde57",
   "metadata": {},
   "outputs": [
    {
     "data": {
      "text/plain": [
       "9.0"
      ]
     },
     "execution_count": 18,
     "metadata": {},
     "output_type": "execute_result"
    }
   ],
   "source": [
    "triangle = triangle()\n",
    "triangle.calculated_area(3,6)"
   ]
  },
  {
   "cell_type": "code",
   "execution_count": 19,
   "id": "b11cf426-c76b-4b60-bd8c-d0730c5c08bc",
   "metadata": {},
   "outputs": [],
   "source": [
    "'''Create a Python class called `Animal` with a method `speak()`. Then, create child classes like `Dog`, `Cat`,\n",
    "and `Bird`, each with their own `speak()` method. Demonstrate polymorphism by calling the `speak()` method on \n",
    "objects of different subclasses.'''\n",
    "\n",
    "class animal:\n",
    "    def speak(self):\n",
    "        pass\n",
    "class dog(animal):\n",
    "    def speak(self):\n",
    "        return \"bow_bow\"\n",
    "class cat(animal):\n",
    "    def speak(self):\n",
    "        return \"meow\"\n",
    "class bird(animal):\n",
    "    def speak(self):\n",
    "        return \"kuku\"\n"
   ]
  },
  {
   "cell_type": "code",
   "execution_count": 20,
   "id": "51dab7fe-c126-4a29-9be7-1ab793de989c",
   "metadata": {},
   "outputs": [
    {
     "data": {
      "text/plain": [
       "'bow_bow'"
      ]
     },
     "execution_count": 20,
     "metadata": {},
     "output_type": "execute_result"
    }
   ],
   "source": [
    "dog = dog()\n",
    "dog.speak()"
   ]
  },
  {
   "cell_type": "code",
   "execution_count": 21,
   "id": "e52ed63d-2451-4da3-abe1-020c04742c0f",
   "metadata": {},
   "outputs": [
    {
     "data": {
      "text/plain": [
       "'meow'"
      ]
     },
     "execution_count": 21,
     "metadata": {},
     "output_type": "execute_result"
    }
   ],
   "source": [
    "cat = cat()\n",
    "cat.speak()"
   ]
  },
  {
   "cell_type": "code",
   "execution_count": 22,
   "id": "74def99c-9609-46ba-ac22-252f87963b65",
   "metadata": {},
   "outputs": [
    {
     "data": {
      "text/plain": [
       "'kuku'"
      ]
     },
     "execution_count": 22,
     "metadata": {},
     "output_type": "execute_result"
    }
   ],
   "source": [
    "bird = bird()\n",
    "bird.speak()"
   ]
  },
  {
   "cell_type": "code",
   "execution_count": 28,
   "id": "3cc14791-e2a6-43fc-adb7-120c91b26fc0",
   "metadata": {},
   "outputs": [],
   "source": [
    "''' Create a Python class hierarchy for a vehicle system (e.g., car, bicycle, boat) and implement \n",
    "a polymorphic `start()` method that prints a message specific to each vehicle type.'''\n",
    "\n",
    "class vehicle:\n",
    "    def start(self):\n",
    "        pass\n",
    "class car:\n",
    "    def start(self):\n",
    "        print(\"car starts by using engine and travells on road\")\n",
    "class bicycle:\n",
    "    def start(self):\n",
    "        print(\"bicycle starts by using man power and travells on road\")\n",
    "class boat:\n",
    "    def start(self):\n",
    "        print(\"boat starts by using both man power and engine,that is travells on water\")"
   ]
  },
  {
   "cell_type": "code",
   "execution_count": 26,
   "id": "ce007772-65be-45f8-abfb-e536a27ade68",
   "metadata": {},
   "outputs": [
    {
     "name": "stdout",
     "output_type": "stream",
     "text": [
      "car starts by using engine and travells on road\n"
     ]
    }
   ],
   "source": [
    "car = car()\n",
    "car.start()"
   ]
  },
  {
   "cell_type": "code",
   "execution_count": 27,
   "id": "582388af-6f94-4e33-ac36-47b07389ea25",
   "metadata": {},
   "outputs": [
    {
     "name": "stdout",
     "output_type": "stream",
     "text": [
      "bicycle starts by using man power and travells on road\n"
     ]
    }
   ],
   "source": [
    "bicycle = bicycle()\n",
    "bicycle.start()"
   ]
  },
  {
   "cell_type": "code",
   "execution_count": 29,
   "id": "1386edd4-2506-454b-be60-f7668dcf69bf",
   "metadata": {},
   "outputs": [
    {
     "name": "stdout",
     "output_type": "stream",
     "text": [
      "boat starts by using both man power and engine,that is travells on water\n"
     ]
    }
   ],
   "source": [
    "boat = boat()\n",
    "boat.start()"
   ]
  },
  {
   "cell_type": "code",
   "execution_count": 30,
   "id": "f8f07036-bb4e-4d1d-97c5-7b21c8343750",
   "metadata": {},
   "outputs": [],
   "source": [
    "'''. Create a Python class called `Shape` with a polymorphic method `area()` that calculates\n",
    "the area of different shapes (e.g., circle, rectangle, triangle).'''\n",
    "class shape:\n",
    "    def shape(self):\n",
    "        pass\n",
    "class circle(shape):\n",
    "    def calculated_area(self,radius):\n",
    "        r = 3.14*(radius*radius)\n",
    "        return r\n",
    "class square(shape):\n",
    "    def calculated_area(self,len_side):\n",
    "        a = len_side*len_side\n",
    "        return a\n",
    "class triangle(shape):\n",
    "    def calculated_area(self,base,height):\n",
    "        a = (1/2)*(base*height)\n",
    "        return a"
   ]
  },
  {
   "cell_type": "code",
   "execution_count": 31,
   "id": "bae1005b-04e9-4d3b-95da-bb211fc5da3b",
   "metadata": {},
   "outputs": [
    {
     "data": {
      "text/plain": [
       "50.24"
      ]
     },
     "execution_count": 31,
     "metadata": {},
     "output_type": "execute_result"
    }
   ],
   "source": [
    "circle = circle()\n",
    "circle.calculated_area(4)"
   ]
  },
  {
   "cell_type": "code",
   "execution_count": 32,
   "id": "685e20d2-48af-4e2e-81f9-ff33050cc11c",
   "metadata": {},
   "outputs": [
    {
     "data": {
      "text/plain": [
       "25"
      ]
     },
     "execution_count": 32,
     "metadata": {},
     "output_type": "execute_result"
    }
   ],
   "source": [
    "square = square()\n",
    "square.calculated_area(5)"
   ]
  },
  {
   "cell_type": "code",
   "execution_count": 33,
   "id": "356846c3-fe2d-4c6b-978d-2e375b2fd501",
   "metadata": {},
   "outputs": [
    {
     "data": {
      "text/plain": [
       "9.0"
      ]
     },
     "execution_count": 33,
     "metadata": {},
     "output_type": "execute_result"
    }
   ],
   "source": [
    "triangle = triangle()\n",
    "triangle.calculated_area(3,6)"
   ]
  },
  {
   "cell_type": "code",
   "execution_count": null,
   "id": "04697152-b21f-4fd6-a0d4-a58467d2b052",
   "metadata": {},
   "outputs": [],
   "source": [
    "# What is inheritance in Python? Explain its significance in object-oriented programming.\n",
    "''' inheritence is the concept of object oriented programming , which means we inherit the objects and methods\n",
    "from one class yo another class ,the class we take the objects and methods to imherit is called parent class\n",
    "the place we inherit that class is called child class .the significance of the inheritance is reusabilty i.e., \n",
    "the developer reuse the objects.'''"
   ]
  },
  {
   "cell_type": "code",
   "execution_count": 1,
   "id": "03bf7d82-34b2-4345-ad8b-bc84f7f24afb",
   "metadata": {},
   "outputs": [],
   "source": [
    "# Differentiate between single inheritance and multiple inheritance in Python. Provide examples for each.\n",
    "'''single inheritance means one derived class has single base class , on the contrary one derived class has two or more\n",
    "derived classes then it is called multiple inhertance'''\n",
    "class lecture:\n",
    "    def topic(self):\n",
    "        print(\"today's class we are discussing about inheritance oops\")\n",
    "        \n",
    "    def timing(self):\n",
    "        print(\"timining for today's class is 9 am ist\")\n",
    "        \n",
    "    def end_time(self):\n",
    "        pritn(\"today class end early due to inaugration of colg\")\n",
    "        "
   ]
  },
  {
   "cell_type": "code",
   "execution_count": null,
   "id": "fd567cd0-83ef-42c3-a0a4-b4eae8d05e58",
   "metadata": {},
   "outputs": [],
   "source": [
    "class student(lecture): \n",
    "    def stud_details(self):         #sinle inheritance example\n",
    "        print(\"this class gives studentd details\")\n",
    "    def timing(self):\n",
    "        print(\"this is timing from student class\")"
   ]
  },
  {
   "cell_type": "code",
   "execution_count": null,
   "id": "ab504c49-aecf-4db3-962e-54c41c16ce80",
   "metadata": {},
   "outputs": [],
   "source": [
    "class teacher(lecture,student):      #here by default in student class ,lecture class alraedy available(in above)\n",
    "                                     #multiple inheritance\n",
    "        def details(self):\n",
    "        print(\"give you about details of teacher\")"
   ]
  },
  {
   "cell_type": "code",
   "execution_count": 2,
   "id": "805cdc6b-578b-463d-ba24-9d47b30a8d87",
   "metadata": {},
   "outputs": [],
   "source": [
    "#Explain the concept of method overriding in inheritance. Provide a practical example.\n",
    "'''method overriding allows us to use functions and methods with the same name and signatures.\n",
    "...over riding can only be done when child class is derived through inheritance.'''\n",
    "class animal:\n",
    "    def speak(self):\n",
    "        pass\n",
    "class dog(animal):\n",
    "    def speak(self):\n",
    "        return \"bowbow\"\n",
    "class cat(animal):\n",
    "    def speak(self):\n",
    "        return \"meow\""
   ]
  },
  {
   "cell_type": "code",
   "execution_count": 3,
   "id": "d1af0604-b715-4e14-b48c-97a752b6a5f5",
   "metadata": {},
   "outputs": [
    {
     "data": {
      "text/plain": [
       "'bowbow'"
      ]
     },
     "execution_count": 3,
     "metadata": {},
     "output_type": "execute_result"
    }
   ],
   "source": [
    "dog = dog()        #example of method overriding\n",
    "dog.speak()"
   ]
  },
  {
   "cell_type": "code",
   "execution_count": 4,
   "id": "9b3d850d-80d2-4184-803d-2f057cff9bd1",
   "metadata": {},
   "outputs": [
    {
     "data": {
      "text/plain": [
       "'meow'"
      ]
     },
     "execution_count": 4,
     "metadata": {},
     "output_type": "execute_result"
    }
   ],
   "source": [
    "cat = cat()\n",
    "cat.speak()"
   ]
  },
  {
   "cell_type": "code",
   "execution_count": 11,
   "id": "37219b0e-9852-49f7-bf33-6d83396f884c",
   "metadata": {},
   "outputs": [],
   "source": [
    "#How can you access the methods and attributes of a parent class from a child class in Python? Give an example\n",
    "class parent:\n",
    "    def parent_attribute(self):\n",
    "        return \"i am from parent class\"\n",
    "        \n",
    "class child(parent):\n",
    "    def child_attribute(self):\n",
    "        return \"i am from child class\""
   ]
  },
  {
   "cell_type": "code",
   "execution_count": 12,
   "id": "4fbb020b-2e3b-4838-ae00-387f6c4ed733",
   "metadata": {},
   "outputs": [
    {
     "data": {
      "text/plain": [
       "'i am from child class'"
      ]
     },
     "execution_count": 12,
     "metadata": {},
     "output_type": "execute_result"
    }
   ],
   "source": [
    "child = child()\n",
    "child.child_attribute()"
   ]
  },
  {
   "cell_type": "code",
   "execution_count": 13,
   "id": "d721d5d8-0a9b-454c-93f6-e0fc27e9d76c",
   "metadata": {},
   "outputs": [
    {
     "data": {
      "text/plain": [
       "'i am from parent class'"
      ]
     },
     "execution_count": 13,
     "metadata": {},
     "output_type": "execute_result"
    }
   ],
   "source": [
    "child.parent_attribute()"
   ]
  },
  {
   "cell_type": "code",
   "execution_count": null,
   "id": "2b7a58b9-e88e-4cb3-8534-7a1412e31c99",
   "metadata": {},
   "outputs": [],
   "source": [
    "''' here in above example the child class attributes the methods from parent class through inheritance called\n",
    "child(parent) asusally child class has its own attributes'''"
   ]
  },
  {
   "cell_type": "code",
   "execution_count": 20,
   "id": "4c632250-ce65-4a52-967d-e1cdba7688b1",
   "metadata": {},
   "outputs": [
    {
     "name": "stdout",
     "output_type": "stream",
     "text": [
      "phani\n",
      "5238798\n",
      "gwdghwdg@gmail.com\n"
     ]
    }
   ],
   "source": [
    "#Discuss the use of the `super()` function in Python inheritance. When and why is it used? Provide an example\n",
    "''' in python super class is used to refer to the parent class.that takes all the attributes from parent or super()\n",
    "class to child class'''\n",
    "class office:\n",
    "    def __init__(self,name,phone):\n",
    "        self.name = name\n",
    "        self.phone = phone\n",
    "class employee(office):\n",
    "    def __init__(self,name,phone,email):\n",
    "        super().__init__(name,phone )\n",
    "        self.email = email\n",
    "emp = employee(\"phani\",5238798,\"gwdghwdg@gmail.com\")\n",
    "print(emp.name)\n",
    "print(emp.phone)\n",
    "print(emp.email)"
   ]
  },
  {
   "cell_type": "code",
   "execution_count": null,
   "id": "a64bb55b-902e-461e-813c-b51150f6065b",
   "metadata": {},
   "outputs": [],
   "source": [
    "'''here we take init methods name and phone form parent class or super class to child class without writing \n",
    "again in child class, by using super.()'''"
   ]
  },
  {
   "cell_type": "code",
   "execution_count": 21,
   "id": "73e1831a-60ca-4a24-9f62-a782bd13be10",
   "metadata": {},
   "outputs": [],
   "source": [
    "#Explain the role of the `isinstance()` function in Python and how it relates to inheritance.\n",
    "\n",
    "'''the isinstance() function returns true if the specified object is of specified type\n",
    "otherwise, it returns false,\n",
    "the syntax is , isinstance(object,type).'''\n",
    "x = isinstance(5,int)"
   ]
  },
  {
   "cell_type": "code",
   "execution_count": 22,
   "id": "761c0b82-741e-4c82-958d-98062f880c6b",
   "metadata": {},
   "outputs": [
    {
     "name": "stdout",
     "output_type": "stream",
     "text": [
      "True\n"
     ]
    }
   ],
   "source": [
    "print(x)"
   ]
  },
  {
   "cell_type": "code",
   "execution_count": 27,
   "id": "bb5883c6-6f8c-4b5c-ac84-4ae23f6e8389",
   "metadata": {},
   "outputs": [],
   "source": [
    "#9. What is the purpose of the `issubclass()` function in Python? Provide an example.\n",
    "'''the issubclass() function returns true if the specified object is a subclass of a specified object \n",
    "otherwise, it returns false\n",
    "the syntax is issubclass(object,subclass).'''\n",
    "class name:\n",
    "    name = \"phani\"\n",
    "class myage:\n",
    "    myage = 26\n",
    "    name = \"phani\"\n",
    "x = issubclass(myage,name)"
   ]
  },
  {
   "cell_type": "code",
   "execution_count": 28,
   "id": "355a25ef-943f-43ec-9e09-3f37a6cd1405",
   "metadata": {},
   "outputs": [
    {
     "name": "stdout",
     "output_type": "stream",
     "text": [
      "False\n"
     ]
    }
   ],
   "source": [
    "print(x)"
   ]
  },
  {
   "cell_type": "code",
   "execution_count": 29,
   "id": "54ca8e4b-e896-472a-9c4b-8798cb0e55e6",
   "metadata": {},
   "outputs": [],
   "source": [
    "class name:\n",
    "    name = \"phani\"\n",
    "class myage(name):\n",
    "    myage = 26\n",
    "    name = \"phani\"\n",
    "x = issubclass(myage,name)"
   ]
  },
  {
   "cell_type": "code",
   "execution_count": 30,
   "id": "3a40b054-7958-431c-ad60-76deb02fdd7c",
   "metadata": {},
   "outputs": [
    {
     "name": "stdout",
     "output_type": "stream",
     "text": [
      "True\n"
     ]
    }
   ],
   "source": [
    "print(x)"
   ]
  },
  {
   "cell_type": "code",
   "execution_count": null,
   "id": "0388e82a-9f53-4402-99ee-9690c2917da4",
   "metadata": {},
   "outputs": [],
   "source": [
    "#10. Discuss the concept of constructor inheritance in Python. How are constructors inherited in child classes?\n",
    "'''In Python, constructor inheritance refers to the ability of a child class to inherit the constructor of its parent class.\n",
    "When a child class is created, it automatically inherits all the attributes and methods of its parent class, including the constructor.\n",
    "To inherit the constructor of a parent class, the child class must call the constructor of the parent class using the super() function.\n",
    "This allows the child class to access all the attributes and methods of its parent class, including the ones defined in the constructor.\n",
    "\n",
    "For example, consider the following code:'''\n",
    "class Parent:\n",
    "    def __init__(self, name):\n",
    "        self.name = name\n",
    "\n",
    "class Child(Parent):\n",
    "    def __init__(self, name, age):\n",
    "        super().__init__(name)\n",
    "        self.age = age"
   ]
  },
  {
   "cell_type": "code",
   "execution_count": 33,
   "id": "87f4f8a6-88e3-4f63-affa-bb554da21081",
   "metadata": {},
   "outputs": [],
   "source": [
    "#12. Explain the use of abstract base classes (ABCs) in Python and how they relate to inheritance. Provide anexample using the `abc` module.\n",
    "''' in python abstract base class (ABC) is used to define a common interface for a group of classes.\n",
    "the abc module in python provides necessary tools to create and use ABC's.and abstract method decorator,\n",
    "which is used to define abstract method'''\n",
    "from abc import ABC\n",
    "\n",
    "class Shape(ABC):\n",
    "    @abstractmethod\n",
    "    def area(self):\n",
    "        pass\n",
    "\n",
    "    @abstractmethod\n",
    "    def perimeter(self):\n",
    "        pass\n",
    "\n",
    "class Rectangle(Shape):\n",
    "    def __init__(self, length, width):\n",
    "        self.length = length\n",
    "        self.width = width\n",
    "\n",
    "    def area(self):\n",
    "        return self.length * self.width\n",
    "\n",
    "    def perimeter(self):\n",
    "        return 2 * (self.length + self.width)\n",
    "\n",
    "class Circle(Shape):\n",
    "    def __init__(self, radius):\n",
    "        self.radius = radius\n",
    "\n",
    "    def area(self):\n",
    "        return 3.14 * self.radius ** 2\n",
    "\n",
    "    def perimeter(self):\n",
    "        return 2 * 3.14 * self.radius\n",
    "\n",
    "class Triangle(Shape):\n",
    "    def __init__(self, base, height):\n",
    "        self.base = base\n",
    "        self.height = height\n",
    "\n",
    "    def area(self):\n",
    "        return 0.5 * self.base * self.height\n",
    "\n",
    "    def perimeter(self):\n",
    "        return self.base + 2 * self.height\n",
    "\n",
    "# Creating instances of the derived classes\n",
    "rectangle = Rectangle(5, 10)\n",
    "circle = Circle(7)\n",
    "triangle = Triangle(4, 6)"
   ]
  },
  {
   "cell_type": "code",
   "execution_count": null,
   "id": "cc1265e1-b796-4ec1-bc12-09c9e4c46983",
   "metadata": {},
   "outputs": [],
   "source": [
    "''' in above example the shape class having two abstract methods area and perimeter .remaining all cild classes inherit the shape and area '''"
   ]
  },
  {
   "cell_type": "code",
   "execution_count": null,
   "id": "8de7e913-7f29-463c-b1b2-cd64933dfea1",
   "metadata": {},
   "outputs": [],
   "source": [
    "#19. 1. Explain the concept of encapsulation in Python. What is its role in object-oriented programming?\n",
    "\n",
    "'''encapsulation is a concept on oops , it hide the internal details of an object.\n",
    "in python we have 3 access modifiers\n",
    "public: public variables can be accessed from anywhere both inside and outside of class\n",
    "private: private variables can be accesed directly outside the class ,these are indicated by doubleunderscores.\n",
    "protected: proted variablles cannot be accesed directly.these are indicated by single under_score"
   ]
  },
  {
   "cell_type": "code",
   "execution_count": null,
   "id": "c9ede3d4-d935-44f2-ae48-04418155cc5e",
   "metadata": {},
   "outputs": [],
   "source": []
  }
 ],
 "metadata": {
  "kernelspec": {
   "display_name": "Python 3 (ipykernel)",
   "language": "python",
   "name": "python3"
  },
  "language_info": {
   "codemirror_mode": {
    "name": "ipython",
    "version": 3
   },
   "file_extension": ".py",
   "mimetype": "text/x-python",
   "name": "python",
   "nbconvert_exporter": "python",
   "pygments_lexer": "ipython3",
   "version": "3.10.8"
  }
 },
 "nbformat": 4,
 "nbformat_minor": 5
}
